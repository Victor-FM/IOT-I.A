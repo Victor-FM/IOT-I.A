{
 "cells": [
  {
   "cell_type": "markdown",
   "id": "e4acd259-e352-4428-a4e0-51832578f7f0",
   "metadata": {},
   "source": [
    "## Grande Desafio 1 (pré-checkpoint 1):\n",
    "\n",
    "## Parte 1: (usar como base a aula 1 DataFrame)\n",
    "  - Importar as bibliotecas iniciais necessárias;\n",
    "  - Importar a base de dados que deseja utilizar;\n",
    "  - Exibir informações sobre a base;\n",
    "  - Alterar ou carregar os cabeçalhos da base;\n",
    "  - Exibir as novas informações da base (os primeiros 5 registros e os 5 últimos registros);\n",
    "  - Plotar gráficos dos atributos da base carregada;\n",
    "  - Calcular as correlações e plotar em gráfico;\n",
    "## Parte 2: (usar como base a aula 2 KNN)\n",
    "  - Carregar as bibliotecas para validação cruzada;\n",
    "  - Carregar e utilizar o classificador k-nearest neighbours (kNN);\n",
    "  - Apresentar a técnica de separação de dados (treino e teste);\n",
    "  - Avaliar Aprendizagem do modelo;\n",
    "## Parte 3: (usar como base a aula 1 Regressão Linear)\n",
    "  - Carregar e utilizar a regressão linear simples para a base;\n",
    "  - Apresentar a técnica de separação de dados (treino e teste);\n",
    "  - Avaliar Aprendizagem do modelo;\n",
    "    "
   ]
  },
  {
   "cell_type": "code",
   "execution_count": null,
   "id": "a6dedc57-c523-42bb-96ab-da42b3312769",
   "metadata": {},
   "outputs": [],
   "source": [
    "## Insira seu código parte 1 aqui\n",
    "## Usar como base aula 1\n",
    "\n",
    "\n"
   ]
  },
  {
   "cell_type": "code",
   "execution_count": null,
   "id": "40d86e7e-2527-4cba-81a6-09ab3e04f2bc",
   "metadata": {},
   "outputs": [],
   "source": [
    "## Insira seu código parte 2 aqui\n",
    "## Usar como base aula 2\n",
    "\n"
   ]
  },
  {
   "cell_type": "code",
   "execution_count": 2,
   "id": "49eb334d-db2c-48fe-9491-f1819bab3869",
   "metadata": {},
   "outputs": [],
   "source": [
    "## Insira seu código parte 3 aqui\n",
    "## Usar como base aula 3\n",
    "\n"
   ]
  }
 ],
 "metadata": {
  "kernelspec": {
   "display_name": "Python 3 (ipykernel)",
   "language": "python",
   "name": "python3"
  },
  "language_info": {
   "codemirror_mode": {
    "name": "ipython",
    "version": 3
   },
   "file_extension": ".py",
   "mimetype": "text/x-python",
   "name": "python",
   "nbconvert_exporter": "python",
   "pygments_lexer": "ipython3",
   "version": "3.12.2"
  }
 },
 "nbformat": 4,
 "nbformat_minor": 5
}
