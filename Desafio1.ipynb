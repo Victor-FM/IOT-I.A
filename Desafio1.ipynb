{
 "cells": [
  {
   "cell_type": "markdown",
   "id": "e4acd259-e352-4428-a4e0-51832578f7f0",
   "metadata": {},
   "source": [
    "## Grande Desafio 1 (pré-checkpoint 1):\n",
    "\n",
    "## Parte 1: (usar como base a aula 1 DataFrame)\n",
    "  - Importar as bibliotecas iniciais necessárias;\n",
    "  - Importar a base de dados que deseja utilizar;\n",
    "  - Exibir informações sobre a base;\n",
    "  - Alterar ou carregar os cabeçalhos da base;\n",
    "  - Exibir as novas informações da base (os primeiros 5 registros e os 5 últimos registros);\n",
    "  - Plotar gráficos dos atributos da base carregada;\n",
    "  - Calcular as correlações e plotar em gráfico;\n",
    "## Parte 2: (usar como base a aula 2 KNN)\n",
    "  - Carregar as bibliotecas para validação cruzada;\n",
    "  - Carregar e utilizar o classificador k-nearest neighbours (kNN);\n",
    "  - Apresentar a técnica de separação de dados (treino e teste);\n",
    "  - Avaliar Aprendizagem do modelo;\n",
    "## Parte 3: (usar como base a aula 1 Regressão Linear)\n",
    "  - Carregar e utilizar a regressão linear simples para a base;\n",
    "  - Apresentar a técnica de separação de dados (treino e teste);\n",
    "  - Avaliar Aprendizagem do modelo;\n",
    "    "
   ]
  },
  {
   "cell_type": "code",
   "execution_count": 47,
   "id": "a6dedc57-c523-42bb-96ab-da42b3312769",
   "metadata": {},
   "outputs": [],
   "source": [
    "## Insira seu código parte 1 aqui\n",
    "## Usar como base aula 1\n",
    "\n",
    "##Importando bibliotecas\n",
    "import pandas as pd\n",
    "import matplotlib.pyplot as plt\n",
    "import numpy as np \n",
    "import seaborn as sns\n"
   ]
  },
  {
   "cell_type": "markdown",
   "id": "a34ddf77",
   "metadata": {},
   "source": [
    "- Conectando com a base de dados"
   ]
  },
  {
   "cell_type": "code",
   "execution_count": 26,
   "id": "83db3b40",
   "metadata": {},
   "outputs": [],
   "source": [
    "url = (r'E:\\FACULDADE\\2 ANO\\Architetures - IOT IOB e GENER\\IOT-I.A-main\\Aula 5 - Desafios\\aptos-metro-valor.csv')\n",
    "\n",
    "df = url"
   ]
  },
  {
   "cell_type": "markdown",
   "id": "6ddc355e",
   "metadata": {},
   "source": [
    "- Definindo nome para o cabeçalho\n"
   ]
  },
  {
   "cell_type": "code",
   "execution_count": 28,
   "id": "67136170",
   "metadata": {},
   "outputs": [],
   "source": [
    "# Define o nome das colunas\n",
    "header = ['m2', 'valor', 'classe']\n",
    "# Lê e carrega o arquivo para a memória\n",
    "df = pd.read_csv(url, header=None, names=header)"
   ]
  },
  {
   "cell_type": "code",
   "execution_count": 29,
   "id": "886402e8",
   "metadata": {},
   "outputs": [
    {
     "data": {
      "text/plain": [
       "Index(['m2', 'valor', 'classe'], dtype='object')"
      ]
     },
     "execution_count": 29,
     "metadata": {},
     "output_type": "execute_result"
    }
   ],
   "source": [
    "df.columns"
   ]
  },
  {
   "cell_type": "markdown",
   "id": "bc276cda",
   "metadata": {},
   "source": [
    "- Os primeiros 5 registros"
   ]
  },
  {
   "cell_type": "code",
   "execution_count": 30,
   "id": "5aa9cfe9",
   "metadata": {},
   "outputs": [
    {
     "data": {
      "text/html": [
       "<div>\n",
       "<style scoped>\n",
       "    .dataframe tbody tr th:only-of-type {\n",
       "        vertical-align: middle;\n",
       "    }\n",
       "\n",
       "    .dataframe tbody tr th {\n",
       "        vertical-align: top;\n",
       "    }\n",
       "\n",
       "    .dataframe thead th {\n",
       "        text-align: right;\n",
       "    }\n",
       "</style>\n",
       "<table border=\"1\" class=\"dataframe\">\n",
       "  <thead>\n",
       "    <tr style=\"text-align: right;\">\n",
       "      <th></th>\n",
       "      <th>m2</th>\n",
       "      <th>valor</th>\n",
       "      <th>classe</th>\n",
       "    </tr>\n",
       "  </thead>\n",
       "  <tbody>\n",
       "    <tr>\n",
       "      <th>0</th>\n",
       "      <td>45</td>\n",
       "      <td>227</td>\n",
       "      <td>C</td>\n",
       "    </tr>\n",
       "    <tr>\n",
       "      <th>1</th>\n",
       "      <td>50</td>\n",
       "      <td>239</td>\n",
       "      <td>C</td>\n",
       "    </tr>\n",
       "    <tr>\n",
       "      <th>2</th>\n",
       "      <td>50</td>\n",
       "      <td>270</td>\n",
       "      <td>C</td>\n",
       "    </tr>\n",
       "    <tr>\n",
       "      <th>3</th>\n",
       "      <td>50</td>\n",
       "      <td>180</td>\n",
       "      <td>C</td>\n",
       "    </tr>\n",
       "    <tr>\n",
       "      <th>4</th>\n",
       "      <td>51</td>\n",
       "      <td>249</td>\n",
       "      <td>C</td>\n",
       "    </tr>\n",
       "  </tbody>\n",
       "</table>\n",
       "</div>"
      ],
      "text/plain": [
       "   m2  valor classe\n",
       "0  45    227      C\n",
       "1  50    239      C\n",
       "2  50    270      C\n",
       "3  50    180      C\n",
       "4  51    249      C"
      ]
     },
     "execution_count": 30,
     "metadata": {},
     "output_type": "execute_result"
    }
   ],
   "source": [
    "df.head()"
   ]
  },
  {
   "cell_type": "markdown",
   "id": "adc4b4ca",
   "metadata": {},
   "source": [
    "- Os últimos 5 registros"
   ]
  },
  {
   "cell_type": "code",
   "execution_count": 31,
   "id": "16838a01",
   "metadata": {},
   "outputs": [
    {
     "data": {
      "text/html": [
       "<div>\n",
       "<style scoped>\n",
       "    .dataframe tbody tr th:only-of-type {\n",
       "        vertical-align: middle;\n",
       "    }\n",
       "\n",
       "    .dataframe tbody tr th {\n",
       "        vertical-align: top;\n",
       "    }\n",
       "\n",
       "    .dataframe thead th {\n",
       "        text-align: right;\n",
       "    }\n",
       "</style>\n",
       "<table border=\"1\" class=\"dataframe\">\n",
       "  <thead>\n",
       "    <tr style=\"text-align: right;\">\n",
       "      <th></th>\n",
       "      <th>m2</th>\n",
       "      <th>valor</th>\n",
       "      <th>classe</th>\n",
       "    </tr>\n",
       "  </thead>\n",
       "  <tbody>\n",
       "    <tr>\n",
       "      <th>97</th>\n",
       "      <td>140</td>\n",
       "      <td>600</td>\n",
       "      <td>A</td>\n",
       "    </tr>\n",
       "    <tr>\n",
       "      <th>98</th>\n",
       "      <td>148</td>\n",
       "      <td>550</td>\n",
       "      <td>A</td>\n",
       "    </tr>\n",
       "    <tr>\n",
       "      <th>99</th>\n",
       "      <td>150</td>\n",
       "      <td>825</td>\n",
       "      <td>A</td>\n",
       "    </tr>\n",
       "    <tr>\n",
       "      <th>100</th>\n",
       "      <td>152</td>\n",
       "      <td>840</td>\n",
       "      <td>A</td>\n",
       "    </tr>\n",
       "    <tr>\n",
       "      <th>101</th>\n",
       "      <td>156</td>\n",
       "      <td>865</td>\n",
       "      <td>A</td>\n",
       "    </tr>\n",
       "  </tbody>\n",
       "</table>\n",
       "</div>"
      ],
      "text/plain": [
       "      m2  valor classe\n",
       "97   140    600      A\n",
       "98   148    550      A\n",
       "99   150    825      A\n",
       "100  152    840      A\n",
       "101  156    865      A"
      ]
     },
     "execution_count": 31,
     "metadata": {},
     "output_type": "execute_result"
    }
   ],
   "source": [
    "df.tail()"
   ]
  },
  {
   "cell_type": "markdown",
   "id": "e1974dde",
   "metadata": {},
   "source": [
    "- Plotando um gráfico com os apartamentos que são classe A e mostrando seus valores\n"
   ]
  },
  {
   "cell_type": "code",
   "execution_count": 43,
   "id": "5472e59c",
   "metadata": {},
   "outputs": [
    {
     "data": {
      "image/png": "[encoded data removed]",
      "text/plain": [
       "<Figure size 640x480 with 1 Axes>"
      ]
     },
     "metadata": {},
     "output_type": "display_data"
    }
   ],
   "source": [
    "valores_classe_A = df[df['classe'] == 'A']['valor']\n",
    "# Plotar gráfico de barras\n",
    "valores_classe_A.plot(kind='bar')\n",
    "plt.xlabel('Posição do dado')\n",
    "plt.ylabel('Valor')\n",
    "plt.title('Apartamentos Classe A')\n",
    "plt.show()"
   ]
  },
  {
   "cell_type": "markdown",
   "id": "1885ab3d",
   "metadata": {},
   "source": [
    "- Calculando o valor mínimo de um apartamento classe A"
   ]
  },
  {
   "cell_type": "code",
   "execution_count": 45,
   "id": "2df0c5a0",
   "metadata": {},
   "outputs": [
    {
     "name": "stdout",
     "output_type": "stream",
     "text": [
      "422\n"
     ]
    }
   ],
   "source": [
    "minimo_valor_classe_A = df[df['classe'] == 'A']['valor'].min()\n",
    "\n",
    "print(minimo_valor_classe_A)"
   ]
  },
  {
   "cell_type": "markdown",
   "id": "f7449406",
   "metadata": {},
   "source": [
    "- Correlação dos dados"
   ]
  },
  {
   "cell_type": "markdown",
   "id": "325dd379",
   "metadata": {},
   "source": [
    "cols_encoded = cols + df_encoded.columns[df_encoded.columns.str.startswith('classe_')].tolist():\n",
    "\n",
    "cols são as colunas originais que você está interessado em incluir na matriz de correlação ('m2' e 'valor').\n",
    "df_encoded.columns[df_encoded.columns.str.startswith('classe_')] seleciona as colunas geradas pela codificação one-hot da coluna 'classe'. Isso é feito filtrando as colunas do DataFrame que começam com 'classe_'.\n",
    ".tolist() converte as colunas selecionadas em uma lista.\n",
    "+ concatena as duas listas, adicionando as colunas originais e as colunas da codificação one-hot juntas em uma única lista chamada cols_encoded.\n",
    "corr_matriz = df_encoded[cols_encoded].corr():\n",
    "\n",
    "df_encoded[cols_encoded] seleciona apenas as colunas do DataFrame df_encoded que estão presentes na lista cols_encoded.\n",
    ".corr() calcula a matriz de correlação entre as colunas selecionadas.\n",
    "Agora, sobre a codificação one-hot:\n",
    "\n",
    "A codificação one-hot é uma técnica usada para transformar variáveis categóricas em variáveis numéricas.\n",
    "Em Python, o método pd.get_dummies() do pandas é usado para realizar a codificação one-hot.\n",
    "Quando você chama pd.get_dummies(df, columns=['classe']), o pandas cria novas colunas para cada categoria única na coluna 'classe' e atribui 1 para a presença da categoria e 0 para a ausência dela em cada linha.\n",
    "Isso é útil porque muitos algoritmos de aprendizado de máquina requerem que todas as entradas sejam numéricas. Portanto, a codificação one-hot permite que você inclua variáveis categóricas em seus modelos de machine learning de forma adequada."
   ]
  },
  {
   "cell_type": "code",
   "execution_count": 55,
   "id": "eadfc391",
   "metadata": {},
   "outputs": [
    {
     "data": {
      "image/png": "[encoded data removed]",
      "text/plain": [
       "<Figure size 640x480 with 2 Axes>"
      ]
     },
     "metadata": {},
     "output_type": "display_data"
    }
   ],
   "source": [
    "cols = ['m2', 'valor']  # Remove 'classe' das colunas de interesse\n",
    "df_encoded = pd.get_dummies(df, columns=['classe'])\n",
    "\n",
    "# Calcula a matriz de correlação usando as colunas selecionadas, incluindo as colunas da codificação one-hot\n",
    "cols_encoded = cols + df_encoded.columns[df_encoded.columns.str.startswith('classe_')].tolist()\n",
    "corr_matriz = df_encoded[cols_encoded].corr()\n",
    "\n",
    "# Cria um heatmap (mapa de calor) para visualizar a matriz de correlação\n",
    "heatmap = sns.heatmap(corr_matriz,\n",
    "                      cbar=True,\n",
    "                      annot=True,\n",
    "                      square=True,\n",
    "                      fmt='.2f',\n",
    "                      annot_kws={'size': 10},\n",
    "                      yticklabels=corr_matriz.index,\n",
    "                      xticklabels=corr_matriz.columns,\n",
    "                      cmap='Dark2')"
   ]
  },
  {
   "cell_type": "code",
   "execution_count": null,
   "id": "40d86e7e-2527-4cba-81a6-09ab3e04f2bc",
   "metadata": {},
   "outputs": [],
   "source": [
    "## Insira seu código parte 2 aqui\n",
    "## Usar como base aula 2\n",
    "\n"
   ]
  },
  {
   "cell_type": "code",
   "execution_count": 2,
   "id": "49eb334d-db2c-48fe-9491-f1819bab3869",
   "metadata": {},
   "outputs": [],
   "source": [
    "## Insira seu código parte 3 aqui\n",
    "## Usar como base aula 3\n",
    "\n"
   ]
  }
 ],
 "metadata": {
  "kernelspec": {
   "display_name": "Python 3 (ipykernel)",
   "language": "python",
   "name": "python3"
  },
  "language_info": {
   "codemirror_mode": {
    "name": "ipython",
    "version": 3
   },
   "file_extension": ".py",
   "mimetype": "text/x-python",
   "name": "python",
   "nbconvert_exporter": "python",
   "pygments_lexer": "ipython3",
   "version": "3.11.8"
  }
 },
 "nbformat": 4,
 "nbformat_minor": 5
}
